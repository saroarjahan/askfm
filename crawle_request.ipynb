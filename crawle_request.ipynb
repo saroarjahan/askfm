{
 "cells": [
  {
   "cell_type": "code",
   "execution_count": 21,
   "metadata": {},
   "outputs": [],
   "source": [
    "# !pip install requests-html\n",
    "# !pip install selenium-requests"
   ]
  },
  {
   "cell_type": "code",
   "execution_count": 25,
   "metadata": {},
   "outputs": [
    {
     "ename": "WebDriverException",
     "evalue": "Message: 'geckodriver' executable needs to be in PATH. \n",
     "output_type": "error",
     "traceback": [
      "\u001b[1;31m---------------------------------------------------------------------------\u001b[0m",
      "\u001b[1;31mFileNotFoundError\u001b[0m                         Traceback (most recent call last)",
      "\u001b[1;32m~\\Anaconda3\\lib\\site-packages\\selenium\\webdriver\\common\\service.py\u001b[0m in \u001b[0;36mstart\u001b[1;34m(self)\u001b[0m\n\u001b[0;32m     75\u001b[0m                                             \u001b[0mstderr\u001b[0m\u001b[1;33m=\u001b[0m\u001b[0mself\u001b[0m\u001b[1;33m.\u001b[0m\u001b[0mlog_file\u001b[0m\u001b[1;33m,\u001b[0m\u001b[1;33m\u001b[0m\u001b[0m\n\u001b[1;32m---> 76\u001b[1;33m                                             stdin=PIPE)\n\u001b[0m\u001b[0;32m     77\u001b[0m         \u001b[1;32mexcept\u001b[0m \u001b[0mTypeError\u001b[0m\u001b[1;33m:\u001b[0m\u001b[1;33m\u001b[0m\u001b[0m\n",
      "\u001b[1;32m~\\Anaconda3\\lib\\subprocess.py\u001b[0m in \u001b[0;36m__init__\u001b[1;34m(self, args, bufsize, executable, stdin, stdout, stderr, preexec_fn, close_fds, shell, cwd, env, universal_newlines, startupinfo, creationflags, restore_signals, start_new_session, pass_fds, encoding, errors)\u001b[0m\n\u001b[0;32m    708\u001b[0m                                 \u001b[0merrread\u001b[0m\u001b[1;33m,\u001b[0m \u001b[0merrwrite\u001b[0m\u001b[1;33m,\u001b[0m\u001b[1;33m\u001b[0m\u001b[0m\n\u001b[1;32m--> 709\u001b[1;33m                                 restore_signals, start_new_session)\n\u001b[0m\u001b[0;32m    710\u001b[0m         \u001b[1;32mexcept\u001b[0m\u001b[1;33m:\u001b[0m\u001b[1;33m\u001b[0m\u001b[0m\n",
      "\u001b[1;32m~\\Anaconda3\\lib\\subprocess.py\u001b[0m in \u001b[0;36m_execute_child\u001b[1;34m(self, args, executable, preexec_fn, close_fds, pass_fds, cwd, env, startupinfo, creationflags, shell, p2cread, p2cwrite, c2pread, c2pwrite, errread, errwrite, unused_restore_signals, unused_start_new_session)\u001b[0m\n\u001b[0;32m    996\u001b[0m                                          \u001b[0mos\u001b[0m\u001b[1;33m.\u001b[0m\u001b[0mfspath\u001b[0m\u001b[1;33m(\u001b[0m\u001b[0mcwd\u001b[0m\u001b[1;33m)\u001b[0m \u001b[1;32mif\u001b[0m \u001b[0mcwd\u001b[0m \u001b[1;32mis\u001b[0m \u001b[1;32mnot\u001b[0m \u001b[1;32mNone\u001b[0m \u001b[1;32melse\u001b[0m \u001b[1;32mNone\u001b[0m\u001b[1;33m,\u001b[0m\u001b[1;33m\u001b[0m\u001b[0m\n\u001b[1;32m--> 997\u001b[1;33m                                          startupinfo)\n\u001b[0m\u001b[0;32m    998\u001b[0m             \u001b[1;32mfinally\u001b[0m\u001b[1;33m:\u001b[0m\u001b[1;33m\u001b[0m\u001b[0m\n",
      "\u001b[1;31mFileNotFoundError\u001b[0m: [WinError 2] The system cannot find the file specified",
      "\nDuring handling of the above exception, another exception occurred:\n",
      "\u001b[1;31mWebDriverException\u001b[0m                        Traceback (most recent call last)",
      "\u001b[1;32m<ipython-input-25-0d342584a0d0>\u001b[0m in \u001b[0;36m<module>\u001b[1;34m()\u001b[0m\n\u001b[0;32m      4\u001b[0m \u001b[1;33m\u001b[0m\u001b[0m\n\u001b[0;32m      5\u001b[0m \u001b[1;31m# Simple usage with built-in WebDrivers:\u001b[0m\u001b[1;33m\u001b[0m\u001b[1;33m\u001b[0m\u001b[0m\n\u001b[1;32m----> 6\u001b[1;33m \u001b[0mwebdriver\u001b[0m \u001b[1;33m=\u001b[0m \u001b[0mFirefox\u001b[0m\u001b[1;33m(\u001b[0m\u001b[1;33m)\u001b[0m\u001b[1;33m\u001b[0m\u001b[0m\n\u001b[0m\u001b[0;32m      7\u001b[0m \u001b[0mresponse\u001b[0m \u001b[1;33m=\u001b[0m \u001b[0mwebdriver\u001b[0m\u001b[1;33m.\u001b[0m\u001b[0mrequest\u001b[0m\u001b[1;33m(\u001b[0m\u001b[1;34m'GET'\u001b[0m\u001b[1;33m,\u001b[0m \u001b[1;34m'https://www.google.com/'\u001b[0m\u001b[1;33m)\u001b[0m\u001b[1;33m\u001b[0m\u001b[0m\n\u001b[0;32m      8\u001b[0m \u001b[0mprint\u001b[0m\u001b[1;33m(\u001b[0m\u001b[0mresponse\u001b[0m\u001b[1;33m)\u001b[0m\u001b[1;33m\u001b[0m\u001b[0m\n",
      "\u001b[1;32m~\\Anaconda3\\lib\\site-packages\\selenium\\webdriver\\firefox\\webdriver.py\u001b[0m in \u001b[0;36m__init__\u001b[1;34m(self, firefox_profile, firefox_binary, timeout, capabilities, proxy, executable_path, options, service_log_path, firefox_options, service_args, desired_capabilities, log_path, keep_alive)\u001b[0m\n\u001b[0;32m    162\u001b[0m                 \u001b[0mservice_args\u001b[0m\u001b[1;33m=\u001b[0m\u001b[0mservice_args\u001b[0m\u001b[1;33m,\u001b[0m\u001b[1;33m\u001b[0m\u001b[0m\n\u001b[0;32m    163\u001b[0m                 log_path=service_log_path)\n\u001b[1;32m--> 164\u001b[1;33m             \u001b[0mself\u001b[0m\u001b[1;33m.\u001b[0m\u001b[0mservice\u001b[0m\u001b[1;33m.\u001b[0m\u001b[0mstart\u001b[0m\u001b[1;33m(\u001b[0m\u001b[1;33m)\u001b[0m\u001b[1;33m\u001b[0m\u001b[0m\n\u001b[0m\u001b[0;32m    165\u001b[0m \u001b[1;33m\u001b[0m\u001b[0m\n\u001b[0;32m    166\u001b[0m             \u001b[0mcapabilities\u001b[0m\u001b[1;33m.\u001b[0m\u001b[0mupdate\u001b[0m\u001b[1;33m(\u001b[0m\u001b[0moptions\u001b[0m\u001b[1;33m.\u001b[0m\u001b[0mto_capabilities\u001b[0m\u001b[1;33m(\u001b[0m\u001b[1;33m)\u001b[0m\u001b[1;33m)\u001b[0m\u001b[1;33m\u001b[0m\u001b[0m\n",
      "\u001b[1;32m~\\Anaconda3\\lib\\site-packages\\selenium\\webdriver\\common\\service.py\u001b[0m in \u001b[0;36mstart\u001b[1;34m(self)\u001b[0m\n\u001b[0;32m     81\u001b[0m                 raise WebDriverException(\n\u001b[0;32m     82\u001b[0m                     \"'%s' executable needs to be in PATH. %s\" % (\n\u001b[1;32m---> 83\u001b[1;33m                         os.path.basename(self.path), self.start_error_message)\n\u001b[0m\u001b[0;32m     84\u001b[0m                 )\n\u001b[0;32m     85\u001b[0m             \u001b[1;32melif\u001b[0m \u001b[0merr\u001b[0m\u001b[1;33m.\u001b[0m\u001b[0merrno\u001b[0m \u001b[1;33m==\u001b[0m \u001b[0merrno\u001b[0m\u001b[1;33m.\u001b[0m\u001b[0mEACCES\u001b[0m\u001b[1;33m:\u001b[0m\u001b[1;33m\u001b[0m\u001b[0m\n",
      "\u001b[1;31mWebDriverException\u001b[0m: Message: 'geckodriver' executable needs to be in PATH. \n"
     ]
    }
   ],
   "source": [
    "# Import any WebDriver class that you would usually import from\n",
    "# selenium.webdriver from the seleniumrequests module\n",
    "from seleniumrequests import Firefox\n",
    "\n",
    "# Simple usage with built-in WebDrivers:\n",
    "webdriver = Firefox()\n",
    "response = webdriver.request('GET', 'https://www.google.com/')\n",
    "print(response)\n",
    "\n",
    "\n",
    "# More complex usage, using a WebDriver from another Selenium-related module:\n",
    "from seleniumrequests.request import RequestMixin\n",
    "from someothermodule import CustomWebDriver\n",
    "\n",
    "\n",
    "class MyCustomWebDriver(RequestMixin, CustomWebDriver):\n",
    "    pass\n",
    "\n",
    "\n",
    "custom_webdriver = MyCustomWebDriver()\n",
    "response = custom_webdriver.request('GET', 'https://www.google.com/')\n",
    "print(response)"
   ]
  },
  {
   "cell_type": "code",
   "execution_count": 40,
   "metadata": {},
   "outputs": [
    {
     "name": "stdout",
     "output_type": "stream",
     "text": [
      "<selenium.webdriver.remote.webelement.WebElement (session=\"dd1f304a5a65268c2f9efdce6400d201\", element=\"0.7853130881609369-1\")>\n"
     ]
    }
   ],
   "source": [
    "from selenium import webdriver\n",
    "from selenium.webdriver.common.keys import Keys\n",
    "import time\n",
    "\n",
    "driver = webdriver.Chrome()\n",
    "# x=driver.get(\"https://ask.fm/Isabel_2002_\")\n",
    "driver.get(\"https://ask.fm/Mia_le18\")\n",
    "\n",
    "# for i in range(3):\n",
    "#     driver.execute_script(\"window.scrollTo(0, document.body.scrollHeight);\")\n",
    "#     time.sleep(3)\n",
    "\n",
    "    \n",
    "content = driver.find_element_by_class_name('medium')\n",
    "print(content)\n",
    "\n",
    "# from requests_html import HTMLSession\n",
    "# session = HTMLSession()\n",
    "\n",
    "# for i in range(3):\n",
    "#     r = session.get(driver)\n",
    "#     Q = r.html.find('.streamItem-answer')\n",
    "#     print(len(Q))\n",
    "    \n"
   ]
  },
  {
   "cell_type": "code",
   "execution_count": 38,
   "metadata": {},
   "outputs": [
    {
     "name": "stdout",
     "output_type": "stream",
     "text": [
      "<selenium.webdriver.remote.webelement.WebElement (session=\"a5ff8f2235f15837652d19464f09ac69\", element=\"0.40689411660434827-1\")>\n"
     ]
    }
   ],
   "source": [
    "print(login_form)"
   ]
  },
  {
   "cell_type": "code",
   "execution_count": null,
   "metadata": {},
   "outputs": [],
   "source": []
  },
  {
   "cell_type": "code",
   "execution_count": 19,
   "metadata": {},
   "outputs": [
    {
     "ename": "NoSuchElementException",
     "evalue": "Message: no such element: Unable to locate element: {\"method\":\"id\",\"selector\":\"mega-bottombar-mail\"}\n  (Session info: chrome=71.0.3578.80)\n  (Driver info: chromedriver=73.0.3683.68 (47787ec04b6e38e22703e856e101e840b65afe72),platform=Windows NT 10.0.18362 x86_64)\n",
     "output_type": "error",
     "traceback": [
      "\u001b[1;31m---------------------------------------------------------------------------\u001b[0m",
      "\u001b[1;31mNoSuchElementException\u001b[0m                    Traceback (most recent call last)",
      "\u001b[1;32m<ipython-input-19-2fdd6222fc78>\u001b[0m in \u001b[0;36m<module>\u001b[1;34m()\u001b[0m\n\u001b[0;32m      7\u001b[0m \u001b[1;32massert\u001b[0m \u001b[1;34m'Yahoo'\u001b[0m \u001b[1;32min\u001b[0m \u001b[0mbrowser\u001b[0m\u001b[1;33m.\u001b[0m\u001b[0mtitle\u001b[0m\u001b[1;33m\u001b[0m\u001b[0m\n\u001b[0;32m      8\u001b[0m \u001b[1;33m\u001b[0m\u001b[0m\n\u001b[1;32m----> 9\u001b[1;33m \u001b[0melem\u001b[0m \u001b[1;33m=\u001b[0m \u001b[0mbrowser\u001b[0m\u001b[1;33m.\u001b[0m\u001b[0mfind_element_by_id\u001b[0m\u001b[1;33m(\u001b[0m\u001b[1;34m'mega-bottombar-mail'\u001b[0m\u001b[1;33m)\u001b[0m  \u001b[1;31m# Find the search box\u001b[0m\u001b[1;33m\u001b[0m\u001b[0m\n\u001b[0m\u001b[0;32m     10\u001b[0m \u001b[1;33m\u001b[0m\u001b[0m\n\u001b[0;32m     11\u001b[0m \u001b[0mbrowser\u001b[0m\u001b[1;33m.\u001b[0m\u001b[0mquit\u001b[0m\u001b[1;33m(\u001b[0m\u001b[1;33m)\u001b[0m\u001b[1;33m\u001b[0m\u001b[0m\n",
      "\u001b[1;32m~\\Anaconda3\\lib\\site-packages\\selenium\\webdriver\\remote\\webdriver.py\u001b[0m in \u001b[0;36mfind_element_by_id\u001b[1;34m(self, id_)\u001b[0m\n\u001b[0;32m    358\u001b[0m             \u001b[0melement\u001b[0m \u001b[1;33m=\u001b[0m \u001b[0mdriver\u001b[0m\u001b[1;33m.\u001b[0m\u001b[0mfind_element_by_id\u001b[0m\u001b[1;33m(\u001b[0m\u001b[1;34m'foo'\u001b[0m\u001b[1;33m)\u001b[0m\u001b[1;33m\u001b[0m\u001b[0m\n\u001b[0;32m    359\u001b[0m         \"\"\"\n\u001b[1;32m--> 360\u001b[1;33m         \u001b[1;32mreturn\u001b[0m \u001b[0mself\u001b[0m\u001b[1;33m.\u001b[0m\u001b[0mfind_element\u001b[0m\u001b[1;33m(\u001b[0m\u001b[0mby\u001b[0m\u001b[1;33m=\u001b[0m\u001b[0mBy\u001b[0m\u001b[1;33m.\u001b[0m\u001b[0mID\u001b[0m\u001b[1;33m,\u001b[0m \u001b[0mvalue\u001b[0m\u001b[1;33m=\u001b[0m\u001b[0mid_\u001b[0m\u001b[1;33m)\u001b[0m\u001b[1;33m\u001b[0m\u001b[0m\n\u001b[0m\u001b[0;32m    361\u001b[0m \u001b[1;33m\u001b[0m\u001b[0m\n\u001b[0;32m    362\u001b[0m     \u001b[1;32mdef\u001b[0m \u001b[0mfind_elements_by_id\u001b[0m\u001b[1;33m(\u001b[0m\u001b[0mself\u001b[0m\u001b[1;33m,\u001b[0m \u001b[0mid_\u001b[0m\u001b[1;33m)\u001b[0m\u001b[1;33m:\u001b[0m\u001b[1;33m\u001b[0m\u001b[0m\n",
      "\u001b[1;32m~\\Anaconda3\\lib\\site-packages\\selenium\\webdriver\\remote\\webdriver.py\u001b[0m in \u001b[0;36mfind_element\u001b[1;34m(self, by, value)\u001b[0m\n\u001b[0;32m    976\u001b[0m         return self.execute(Command.FIND_ELEMENT, {\n\u001b[0;32m    977\u001b[0m             \u001b[1;34m'using'\u001b[0m\u001b[1;33m:\u001b[0m \u001b[0mby\u001b[0m\u001b[1;33m,\u001b[0m\u001b[1;33m\u001b[0m\u001b[0m\n\u001b[1;32m--> 978\u001b[1;33m             'value': value})['value']\n\u001b[0m\u001b[0;32m    979\u001b[0m \u001b[1;33m\u001b[0m\u001b[0m\n\u001b[0;32m    980\u001b[0m     \u001b[1;32mdef\u001b[0m \u001b[0mfind_elements\u001b[0m\u001b[1;33m(\u001b[0m\u001b[0mself\u001b[0m\u001b[1;33m,\u001b[0m \u001b[0mby\u001b[0m\u001b[1;33m=\u001b[0m\u001b[0mBy\u001b[0m\u001b[1;33m.\u001b[0m\u001b[0mID\u001b[0m\u001b[1;33m,\u001b[0m \u001b[0mvalue\u001b[0m\u001b[1;33m=\u001b[0m\u001b[1;32mNone\u001b[0m\u001b[1;33m)\u001b[0m\u001b[1;33m:\u001b[0m\u001b[1;33m\u001b[0m\u001b[0m\n",
      "\u001b[1;32m~\\Anaconda3\\lib\\site-packages\\selenium\\webdriver\\remote\\webdriver.py\u001b[0m in \u001b[0;36mexecute\u001b[1;34m(self, driver_command, params)\u001b[0m\n\u001b[0;32m    319\u001b[0m         \u001b[0mresponse\u001b[0m \u001b[1;33m=\u001b[0m \u001b[0mself\u001b[0m\u001b[1;33m.\u001b[0m\u001b[0mcommand_executor\u001b[0m\u001b[1;33m.\u001b[0m\u001b[0mexecute\u001b[0m\u001b[1;33m(\u001b[0m\u001b[0mdriver_command\u001b[0m\u001b[1;33m,\u001b[0m \u001b[0mparams\u001b[0m\u001b[1;33m)\u001b[0m\u001b[1;33m\u001b[0m\u001b[0m\n\u001b[0;32m    320\u001b[0m         \u001b[1;32mif\u001b[0m \u001b[0mresponse\u001b[0m\u001b[1;33m:\u001b[0m\u001b[1;33m\u001b[0m\u001b[0m\n\u001b[1;32m--> 321\u001b[1;33m             \u001b[0mself\u001b[0m\u001b[1;33m.\u001b[0m\u001b[0merror_handler\u001b[0m\u001b[1;33m.\u001b[0m\u001b[0mcheck_response\u001b[0m\u001b[1;33m(\u001b[0m\u001b[0mresponse\u001b[0m\u001b[1;33m)\u001b[0m\u001b[1;33m\u001b[0m\u001b[0m\n\u001b[0m\u001b[0;32m    322\u001b[0m             response['value'] = self._unwrap_value(\n\u001b[0;32m    323\u001b[0m                 response.get('value', None))\n",
      "\u001b[1;32m~\\Anaconda3\\lib\\site-packages\\selenium\\webdriver\\remote\\errorhandler.py\u001b[0m in \u001b[0;36mcheck_response\u001b[1;34m(self, response)\u001b[0m\n\u001b[0;32m    240\u001b[0m                 \u001b[0malert_text\u001b[0m \u001b[1;33m=\u001b[0m \u001b[0mvalue\u001b[0m\u001b[1;33m[\u001b[0m\u001b[1;34m'alert'\u001b[0m\u001b[1;33m]\u001b[0m\u001b[1;33m.\u001b[0m\u001b[0mget\u001b[0m\u001b[1;33m(\u001b[0m\u001b[1;34m'text'\u001b[0m\u001b[1;33m)\u001b[0m\u001b[1;33m\u001b[0m\u001b[0m\n\u001b[0;32m    241\u001b[0m             \u001b[1;32mraise\u001b[0m \u001b[0mexception_class\u001b[0m\u001b[1;33m(\u001b[0m\u001b[0mmessage\u001b[0m\u001b[1;33m,\u001b[0m \u001b[0mscreen\u001b[0m\u001b[1;33m,\u001b[0m \u001b[0mstacktrace\u001b[0m\u001b[1;33m,\u001b[0m \u001b[0malert_text\u001b[0m\u001b[1;33m)\u001b[0m\u001b[1;33m\u001b[0m\u001b[0m\n\u001b[1;32m--> 242\u001b[1;33m         \u001b[1;32mraise\u001b[0m \u001b[0mexception_class\u001b[0m\u001b[1;33m(\u001b[0m\u001b[0mmessage\u001b[0m\u001b[1;33m,\u001b[0m \u001b[0mscreen\u001b[0m\u001b[1;33m,\u001b[0m \u001b[0mstacktrace\u001b[0m\u001b[1;33m)\u001b[0m\u001b[1;33m\u001b[0m\u001b[0m\n\u001b[0m\u001b[0;32m    243\u001b[0m \u001b[1;33m\u001b[0m\u001b[0m\n\u001b[0;32m    244\u001b[0m     \u001b[1;32mdef\u001b[0m \u001b[0m_value_or_default\u001b[0m\u001b[1;33m(\u001b[0m\u001b[0mself\u001b[0m\u001b[1;33m,\u001b[0m \u001b[0mobj\u001b[0m\u001b[1;33m,\u001b[0m \u001b[0mkey\u001b[0m\u001b[1;33m,\u001b[0m \u001b[0mdefault\u001b[0m\u001b[1;33m)\u001b[0m\u001b[1;33m:\u001b[0m\u001b[1;33m\u001b[0m\u001b[0m\n",
      "\u001b[1;31mNoSuchElementException\u001b[0m: Message: no such element: Unable to locate element: {\"method\":\"id\",\"selector\":\"mega-bottombar-mail\"}\n  (Session info: chrome=71.0.3578.80)\n  (Driver info: chromedriver=73.0.3683.68 (47787ec04b6e38e22703e856e101e840b65afe72),platform=Windows NT 10.0.18362 x86_64)\n"
     ]
    }
   ],
   "source": [
    "from selenium import webdriver\n",
    "from selenium.webdriver.common.keys import Keys\n",
    "\n",
    "browser = webdriver.Chrome()\n",
    "\n",
    "browser.get('http://www.yahoo.com')\n",
    "assert 'Yahoo' in browser.title\n",
    "\n",
    "elem = browser.find_element_by_id('mega-bottombar-mail')  # Find the search box\n",
    "\n",
    "browser.quit()"
   ]
  },
  {
   "cell_type": "code",
   "execution_count": 5,
   "metadata": {},
   "outputs": [],
   "source": [
    "from requests_html import HTMLSession\n",
    "session = HTMLSession()\n",
    "r = session.get('https://python.org/')"
   ]
  },
  {
   "cell_type": "code",
   "execution_count": 6,
   "metadata": {},
   "outputs": [
    {
     "data": {
      "text/plain": [
       "{'/',\n",
       " '//docs.python.org/3/tutorial/',\n",
       " '//docs.python.org/3/tutorial/controlflow.html',\n",
       " '//docs.python.org/3/tutorial/controlflow.html#defining-functions',\n",
       " '//docs.python.org/3/tutorial/introduction.html#lists',\n",
       " '//jobs.python.org',\n",
       " '/about/',\n",
       " '/about/apps',\n",
       " '/about/apps/',\n",
       " '/about/gettingstarted/',\n",
       " '/about/help/',\n",
       " '/about/legal/',\n",
       " '/about/quotes/',\n",
       " '/blogs/',\n",
       " '/community/',\n",
       " '/community/awards',\n",
       " '/community/diversity/',\n",
       " '/community/forums/',\n",
       " '/community/irc/',\n",
       " '/community/lists/',\n",
       " '/community/logos/',\n",
       " '/community/merchandise/',\n",
       " '/community/sigs/',\n",
       " '/community/survey',\n",
       " '/community/workshops/',\n",
       " '/dev/',\n",
       " '/dev/core-mentorship/',\n",
       " '/dev/peps/',\n",
       " '/dev/peps/peps.rss',\n",
       " '/doc/',\n",
       " '/doc/av',\n",
       " '/doc/essays/',\n",
       " '/download/alternatives',\n",
       " '/download/other/',\n",
       " '/downloads/',\n",
       " '/downloads/mac-osx/',\n",
       " '/downloads/release/python-374/',\n",
       " '/downloads/source/',\n",
       " '/downloads/windows/',\n",
       " '/events/',\n",
       " '/events/calendars/',\n",
       " '/events/python-events',\n",
       " '/events/python-events/781/',\n",
       " '/events/python-events/841/',\n",
       " '/events/python-events/845/',\n",
       " '/events/python-events/859/',\n",
       " '/events/python-events/867/',\n",
       " '/events/python-events/past/',\n",
       " '/events/python-user-group/',\n",
       " '/events/python-user-group/past/',\n",
       " '/jobs/',\n",
       " '/news/security/',\n",
       " '/privacy/',\n",
       " '/psf-landing/',\n",
       " '/psf/',\n",
       " '/psf/annual-report/2019/',\n",
       " '/psf/conduct/',\n",
       " '/psf/donations/',\n",
       " '/psf/newsletter/',\n",
       " '/psf/sponsorship/sponsors/#heroku',\n",
       " '/shell/',\n",
       " '/success-stories/',\n",
       " '/success-stories/category/arts/',\n",
       " '/success-stories/category/business/',\n",
       " '/success-stories/category/education/',\n",
       " '/success-stories/category/engineering/',\n",
       " '/success-stories/category/government/',\n",
       " '/success-stories/category/scientific/',\n",
       " '/success-stories/category/software-development/',\n",
       " '/success-stories/python-seo-link-analyzer/',\n",
       " '/users/membership/',\n",
       " 'http://bottlepy.org',\n",
       " 'http://brochure.getpython.info/',\n",
       " 'http://buildbot.net/',\n",
       " 'http://docs.python.org/3/tutorial/introduction.html#using-python-as-a-calculator',\n",
       " 'http://feedproxy.google.com/~r/PythonInsider/~3/EhYhNMq--Vs/python-375rc1-is-now-available-for.html',\n",
       " 'http://feedproxy.google.com/~r/PythonInsider/~3/PSARItuHVdY/python-380rc1-is-now-available.html',\n",
       " 'http://feedproxy.google.com/~r/PythonSoftwareFoundationNews/~3/6kRjmldWAVo/felipe-de-morais-2019-q2-community.html',\n",
       " 'http://feedproxy.google.com/~r/PythonSoftwareFoundationNews/~3/LBx7-RCzQCk/pypi-security-q4-2019-request-for.html',\n",
       " 'http://feedproxy.google.com/~r/PythonSoftwareFoundationNews/~3/f_OZiFUX3q0/grants-awarded-for-python-in-education.html',\n",
       " 'http://flask.pocoo.org/',\n",
       " 'http://ipython.org',\n",
       " 'http://pandas.pydata.org/',\n",
       " 'http://planetpython.org/',\n",
       " 'http://pycon.blogspot.com/',\n",
       " 'http://pyfound.blogspot.com/',\n",
       " 'http://python.org/dev/peps/',\n",
       " 'http://roundup.sourceforge.net/',\n",
       " 'http://tornadoweb.org',\n",
       " 'http://trac.edgewall.org/',\n",
       " 'http://wiki.python.org/moin/Languages',\n",
       " 'http://wiki.python.org/moin/TkInter',\n",
       " 'http://www.ansible.com',\n",
       " 'http://www.djangoproject.com/',\n",
       " 'http://www.pylonsproject.org/',\n",
       " 'http://www.riverbankcomputing.co.uk/software/pyqt/intro',\n",
       " 'http://www.saltstack.com',\n",
       " 'http://www.scipy.org',\n",
       " 'http://www.web2py.com/',\n",
       " 'http://www.wxpython.org/',\n",
       " 'https://blog.python.org',\n",
       " 'https://bugs.python.org/',\n",
       " 'https://devguide.python.org/',\n",
       " 'https://docs.python.org',\n",
       " 'https://docs.python.org/3/license.html',\n",
       " 'https://docs.python.org/faq/',\n",
       " 'https://github.com/python/pythondotorg/issues',\n",
       " 'https://kivy.org/',\n",
       " 'https://mail.python.org/mailman/listinfo/python-dev',\n",
       " 'https://pypi.python.org/',\n",
       " 'https://status.python.org/',\n",
       " 'https://twitter.com/ThePSF',\n",
       " 'https://wiki.gnome.org/Projects/PyGObject',\n",
       " 'https://wiki.python.org/moin/',\n",
       " 'https://wiki.python.org/moin/BeginnersGuide',\n",
       " 'https://wiki.python.org/moin/PythonBooks',\n",
       " 'https://wiki.python.org/moin/PythonEventsCalendar#Submitting_an_Event',\n",
       " 'https://wiki.qt.io/PySide',\n",
       " 'https://www.facebook.com/pythonlang?fref=ts',\n",
       " 'https://www.openstack.org'}"
      ]
     },
     "execution_count": 6,
     "metadata": {},
     "output_type": "execute_result"
    }
   ],
   "source": [
    "r.html.links"
   ]
  },
  {
   "cell_type": "code",
   "execution_count": 9,
   "metadata": {
    "scrolled": true
   },
   "outputs": [
    {
     "name": "stdout",
     "output_type": "stream",
     "text": [
      "About\n",
      "Applications\n",
      "Quotes\n",
      "Getting Started\n",
      "Help\n",
      "Python Brochure\n"
     ]
    }
   ],
   "source": [
    "about = r.html.find('#about', first=True)\n",
    "print(about.text)"
   ]
  },
  {
   "cell_type": "code",
   "execution_count": 48,
   "metadata": {},
   "outputs": [],
   "source": [
    "user=['Mia_le18','Isabel_2002_','SarahBethFusaro']"
   ]
  },
  {
   "cell_type": "code",
   "execution_count": 49,
   "metadata": {},
   "outputs": [
    {
     "name": "stdout",
     "output_type": "stream",
     "text": [
      "6\n",
      "25\n",
      "25\n"
     ]
    }
   ],
   "source": [
    "from requests_html import HTMLSession\n",
    "session = HTMLSession()\n",
    "\n",
    "for i in range(3):\n",
    "    r = session.get('https://ask.fm/'+user[i])\n",
    "    Q = r.html.find('.streamItem-answer')\n",
    "    print(len(Q))\n",
    "    \n",
    "\n"
   ]
  },
  {
   "cell_type": "code",
   "execution_count": 34,
   "metadata": {},
   "outputs": [
    {
     "name": "stdout",
     "output_type": "stream",
     "text": [
      "mitä teet?\n",
      "about 17 hours ago\n",
      "katon greyn anatomiaa ja oon puhelimella ☺️☺️\n",
      "View more\n",
      "0\n",
      "0\n",
      "Report postForward the question\n",
      "Forward the question\n"
     ]
    }
   ],
   "source": [
    "Q = r.html.find('.streamItem-answer')\n",
    "print(Q[1].text)"
   ]
  },
  {
   "cell_type": "code",
   "execution_count": 2,
   "metadata": {},
   "outputs": [],
   "source": [
    "from selenium import webdriver\n",
    "from bs4 import BeautifulSoup\n",
    "from selenium import webdriver\n",
    "from selenium.webdriver.common.keys import Keys\n",
    "import time\n",
    "user=['Isabel_2002_']\n",
    "\n",
    "for i in range(1):\n",
    "    driver = webdriver.Chrome()\n",
    "    driver.get('https://ask.fm/'+user[i])\n",
    "    # driver.get(\"https://ask.fm/Mia_le18\")\n",
    "\n",
    "    for i in range(1):\n",
    "        driver.execute_script(\"window.scrollTo(0, document.body.scrollHeight);\")\n",
    "        time.sleep(3)\n",
    "        \n",
    "#     content = driver.find_element_by_class_name('medium')\n",
    "\n",
    "    soup = BeautifulSoup(driver.page_source,'html.parser')\n",
    "    for item in soup.find_all('article',class_=\"streamItem-answer\"):\n",
    "#      print(item)\n",
    "        arry_data=item.find_all('h2',class_=\"medium\")+item.find_all('div',class_=\"streamItem_content\")   \n",
    "        \n",
    "        \n",
    "    \n",
    "    \n",
    "# print(soup)\n",
    "# # BeautifulSoup('<p class=\"body strikeout\"></p>')\n",
    "\n",
    "# for item in soup.find_all('h2',class_=\"medium\"):\n",
    "#      print(item)\n"
   ]
  },
  {
   "cell_type": "code",
   "execution_count": 3,
   "metadata": {},
   "outputs": [
    {
     "name": "stdout",
     "output_type": "stream",
     "text": [
      "<div class=\"streamItem_content\">:D It's just I don't have a phone or anything to follow you on,<p class=\"readMore\"><a class=\"button\" data-action=\"ReadMore\" href=\"#\">View more</a></p></div>\n"
     ]
    }
   ],
   "source": [
    "print(str(arry_data[0]))"
   ]
  },
  {
   "cell_type": "code",
   "execution_count": 4,
   "metadata": {},
   "outputs": [
    {
     "name": "stdout",
     "output_type": "stream",
     "text": [
      "[<h2 class=\"medium\">Describe your neighborhood!</h2>, <div class=\"streamItem_content\">Huge<p class=\"readMore\"><a class=\"button\" data-action=\"ReadMore\" href=\"#\">View more</a></p></div>]\n",
      "[<h2 class=\"medium\">do u think my ex things about me?</h2>, <div class=\"streamItem_content\">Thinks* and I don't know your ex. Who broke up with who and why?<p class=\"readMore\"><a class=\"button\" data-action=\"ReadMore\" href=\"#\">View more</a></p></div>]\n",
      "[<h2 class=\"medium\">I’ve just finished my periods  a week ago and for the past few days feeling very faint, sickly and having period type cramps. Is this normal?</h2>, <div class=\"streamItem_content\">Idk. use google lol<p class=\"readMore\"><a class=\"button\" data-action=\"ReadMore\" href=\"#\">View more</a></p></div>]\n",
      "[<h2 class=\"medium\">Heeeey how your day is going?? 🙈🙈🔥🔥</h2>, <div class=\"streamItem_content\">Pretty great wby<p class=\"readMore\"><a class=\"button\" data-action=\"ReadMore\" href=\"#\">View more</a></p></div>]\n",
      "[<h2 class=\"medium\">Do you have boyfriend or girlfriend??? 🙈🙈🙈🙈 hahahaha</h2>, <div class=\"streamItem_content\">Yes<p class=\"readMore\"><a class=\"button\" data-action=\"ReadMore\" href=\"#\">View more</a></p></div>]\n",
      "[<div class=\"streamItem_content\">Really happy<p class=\"readMore\"><a class=\"button\" data-action=\"ReadMore\" href=\"#\">View more</a></p></div>]\n",
      "[<h2 class=\"medium\">Do you wish you could read someone's mind? Why?</h2>, <div class=\"streamItem_content\">Yes<p class=\"readMore\"><a class=\"button\" data-action=\"ReadMore\" href=\"#\">View more</a></p></div>]\n",
      "[<h2 class=\"medium\">For the peeps that dress alternatively I'd love to know what stores you shop at because I'm looking for more options. Thank you!</h2>, <div class=\"streamItem_content\">AHH<p class=\"readMore\"><a class=\"button\" data-action=\"ReadMore\" href=\"#\">View more</a></p></div>]\n",
      "[<h2 class=\"medium\">hi, who’s from ventura, ca? 🙃</h2>, <div class=\"streamItem_content\">Why the ?<p class=\"readMore\"><a class=\"button\" data-action=\"ReadMore\" href=\"#\">View more</a></p></div>]\n",
      "[<div class=\"streamItem_content\">NO<p class=\"readMore\"><a class=\"button\" data-action=\"ReadMore\" href=\"#\">View more</a></p></div>]\n",
      "[<h2 class=\"medium\">Would u date someone u just meet and have a long distance relationship</h2>, <div class=\"streamItem_content\">No<p class=\"readMore\"><a class=\"button\" data-action=\"ReadMore\" href=\"#\">View more</a></p></div>]\n",
      "[<h2 class=\"medium\">What was weird or gross about your siblings?</h2>, <div class=\"streamItem_content\">Was???<p class=\"readMore\"><a class=\"button\" data-action=\"ReadMore\" href=\"#\">View more</a></p></div>]\n",
      "[<h2 class=\"medium\">Do you believe in happy ending?</h2>, <div class=\"streamItem_content\">yes<p class=\"readMore\"><a class=\"button\" data-action=\"ReadMore\" href=\"#\">View more</a></p></div>]\n",
      "[<h2 class=\"medium\">Who was the grossest kid you knew?</h2>, <div class=\"streamItem_content\">Some kid named corey<p class=\"readMore\"><a class=\"button\" data-action=\"ReadMore\" href=\"#\">View more</a></p></div>]\n",
      "[<div class=\"streamItem_content\">English please<p class=\"readMore\"><a class=\"button\" data-action=\"ReadMore\" href=\"#\">View more</a></p></div>]\n",
      "[<h2 class=\"medium\">I’m also wonderful for you saying wonderful😊😂</h2>, <div class=\"streamItem_content\">Yayyyy<p class=\"readMore\"><a class=\"button\" data-action=\"ReadMore\" href=\"#\">View more</a></p></div>]\n",
      "[<h2 class=\"medium\">Anyone else have a pig or ski slope nose too? I hate mine!!! 😭</h2>, <div class=\"streamItem_content\">Idk<p class=\"readMore\"><a class=\"button\" data-action=\"ReadMore\" href=\"#\">View more</a></p></div>]\n",
      "[<h2 class=\"medium\">What was the last thing that made you laugh?</h2>, <div class=\"streamItem_content\">Nothing<p class=\"readMore\"><a class=\"button\" data-action=\"ReadMore\" href=\"#\">View more</a></p></div>]\n",
      "[<div class=\"streamItem_content\">I'm wonderful, how are you?<p class=\"readMore\"><a class=\"button\" data-action=\"ReadMore\" href=\"#\">View more</a></p></div>]\n",
      "[<h2 class=\"medium\">¿Cono e dijo que me gusta? Pero en mensaje</h2>, <div class=\"streamItem_content\">Your request makes no sense<p class=\"readMore\"><a class=\"button\" data-action=\"ReadMore\" href=\"#\">View more</a></p></div>]\n",
      "[<h2 class=\"medium\">What was the last thing you purchased and why?</h2>, <div class=\"streamItem_content\">On my own, gifts for my friends<p class=\"readMore\"><a class=\"button\" data-action=\"ReadMore\" href=\"#\">View more</a></p></div>]\n",
      "[<h2 class=\"medium\">Nah don’t worry bout it I understand</h2>, <div class=\"streamItem_content\">Yayy<p class=\"readMore\"><a class=\"button\" data-action=\"ReadMore\" href=\"#\">View more</a></p></div>]\n",
      "[<h2 class=\"medium\">Anybody else like taking goofy selfies?</h2>, <div class=\"streamItem_content\">Meeeee<p class=\"readMore\"><a class=\"button\" data-action=\"ReadMore\" href=\"#\">View more</a></p></div>]\n",
      "[<div class=\"streamItem_content\">I don't have  a phone<p class=\"readMore\"><a class=\"button\" data-action=\"ReadMore\" href=\"#\">View more</a></p></div>]\n",
      "[]\n",
      "[<h2 class=\"medium\">Anyone here from Colorado?</h2>, <div class=\"streamItem_content\">Nope<p class=\"readMore\"><a class=\"button\" data-action=\"ReadMore\" href=\"#\">View more</a></p></div>]\n",
      "[<div class=\"streamItem_content\">Good, you?<p class=\"readMore\"><a class=\"button\" data-action=\"ReadMore\" href=\"#\">View more</a></p></div>]\n",
      "[<h2 class=\"medium\">Any anime suggestions?</h2>]\n",
      "[<h2 class=\"medium\">I dare you to take a pig nose selfie! 🐽</h2>, <div class=\"streamItem_content\">no weirdo<p class=\"readMore\"><a class=\"button\" data-action=\"ReadMore\" href=\"#\">View more</a></p></div>]\n",
      "[<h2 class=\"medium\">What is better than chocolate?</h2>, <div class=\"streamItem_content\">Ice cream<p class=\"readMore\"><a class=\"button\" data-action=\"ReadMore\" href=\"#\">View more</a></p></div>]\n",
      "[<h2 class=\"medium\">Can someone ask me some questions, I'm really bored. Or if you just want to talk.</h2>, <div class=\"streamItem_content\">Maybe<p class=\"readMore\"><a class=\"button\" data-action=\"ReadMore\" href=\"#\">View more</a></p></div>]\n",
      "[<h2 class=\"medium\">I want my boyfriend:(</h2>, <div class=\"streamItem_content\">I want a boyfriend<p class=\"readMore\"><a class=\"button\" data-action=\"ReadMore\" href=\"#\">View more</a></p></div>]\n",
      "[<div class=\"streamItem_content\">Hii<p class=\"readMore\"><a class=\"button\" data-action=\"ReadMore\" href=\"#\">View more</a></p></div>]\n",
      "[<h2 class=\"medium\">Take a selfie making a silly face for silly face Saturday! 😂</h2>, <div class=\"streamItem_content\">no<p class=\"readMore\"><a class=\"button\" data-action=\"ReadMore\" href=\"#\">View more</a></p></div>]\n",
      "[<h2 class=\"medium\">What kind of man/woman do you want?</h2>, <div class=\"streamItem_content\">A confident caring sweet protective boyfriend<p class=\"readMore\"><a class=\"button\" data-action=\"ReadMore\" href=\"#\">View more</a></p></div>]\n",
      "[<h2 class=\"medium\">Any guys around 17-20 looking for a clean relationship?? If so reply! If not, don’t reply! 💓💓</h2>, <div class=\"streamItem_content\">Imma reply anyway because you don't need to rely on strangers for love.<p class=\"readMore\"><a class=\"button\" data-action=\"ReadMore\" href=\"#\">View more</a></p></div>]\n",
      "[<h2 class=\"medium\">okay so i dont know if there's like any way to make a group chat on here butttt i really want to talk to you guys and make new friends</h2>, <div class=\"streamItem_content\">No gruopchats, just shoutouts.<p class=\"readMore\"><a class=\"button\" data-action=\"ReadMore\" href=\"#\">View more</a></p></div>]\n",
      "[<h2 class=\"medium\">How old were you when you last went trick or treating?</h2>, <div class=\"streamItem_content\">16 lol<p class=\"readMore\"><a class=\"button\" data-action=\"ReadMore\" href=\"#\">View more</a></p></div>]\n",
      "[<h2 class=\"medium\">Eres muy bonita, te amo 😘💕</h2>]\n",
      "[<h2 class=\"medium\">Are you an early bird or a night owl?</h2>, <div class=\"streamItem_content\">Night owl<p class=\"readMore\"><a class=\"button\" data-action=\"ReadMore\" href=\"#\">View more</a></p></div>]\n",
      "[<h2 class=\"medium\">do y’all still listen to one direction because same 🥴</h2>, <div class=\"streamItem_content\">Old songs, some songs.<p class=\"readMore\"><a class=\"button\" data-action=\"ReadMore\" href=\"#\">View more</a></p></div>]\n",
      "[<h2 class=\"medium\">Any other fellow goofballs out there? 😮</h2>, <div class=\"streamItem_content\">Yes<p class=\"readMore\"><a class=\"button\" data-action=\"ReadMore\" href=\"#\">View more</a></p></div>]\n",
      "[<div class=\"streamItem_content\">Decent<p class=\"readMore\"><a class=\"button\" data-action=\"ReadMore\" href=\"#\">View more</a></p></div>]\n",
      "[<h2 class=\"medium\">Any 5sos fans out there?</h2>, <div class=\"streamItem_content\">Yes<br/>Also Hi I'm also Isabel :)<p class=\"readMore\"><a class=\"button\" data-action=\"ReadMore\" href=\"#\">View more</a></p></div>]\n",
      "[<h2 class=\"medium\">hey y'all I know this is sounds weird but can your guys help me with this my parents want me to marry a 30 years old lady and I'm only 18 should I marry her yes or no</h2>, <div class=\"streamItem_content\">No. First of all, you're too young to marry, 2nd, you need to marry someone you LOVE with YOUR heart.<p class=\"readMore\"><a class=\"button\" data-action=\"ReadMore\" href=\"#\">View more</a></p></div>]\n",
      "[<div class=\"streamItem_content\">No<p class=\"readMore\"><a class=\"button\" data-action=\"ReadMore\" href=\"#\">View more</a></p></div>]\n",
      "[<h2 class=\"medium\">what's your dream car?</h2>, <div class=\"streamItem_content\">mUsTaNg<p class=\"readMore\"><a class=\"button\" data-action=\"ReadMore\" href=\"#\">View more</a></p></div>]\n",
      "[<div class=\"streamItem_content\">:)) yeah<p class=\"readMore\"><a class=\"button\" data-action=\"ReadMore\" href=\"#\">View more</a></p></div>]\n",
      "[<h2 class=\"medium\">Is anyone in school right now ?</h2>, <div class=\"streamItem_content\">I was at the time you sent it.<p class=\"readMore\"><a class=\"button\" data-action=\"ReadMore\" href=\"#\">View more</a></p></div>]\n",
      "[<div class=\"streamItem_content\">:D It's just I don't have a phone or anything to follow you on,<p class=\"readMore\"><a class=\"button\" data-action=\"ReadMore\" href=\"#\">View more</a></p></div>]\n"
     ]
    }
   ],
   "source": [
    "for item in soup.find_all('article',class_=\"streamItem-answer\"):\n",
    "#      print(item)\n",
    "    print(item.find_all('h2',class_=\"medium\")+item.find_all('div',class_=\"streamItem_content\"))"
   ]
  },
  {
   "cell_type": "code",
   "execution_count": null,
   "metadata": {},
   "outputs": [],
   "source": []
  }
 ],
 "metadata": {
  "kernelspec": {
   "display_name": "Python 3",
   "language": "python",
   "name": "python3"
  },
  "language_info": {
   "codemirror_mode": {
    "name": "ipython",
    "version": 3
   },
   "file_extension": ".py",
   "mimetype": "text/x-python",
   "name": "python",
   "nbconvert_exporter": "python",
   "pygments_lexer": "ipython3",
   "version": "3.6.5"
  }
 },
 "nbformat": 4,
 "nbformat_minor": 2
}
