{
 "cells": [
  {
   "cell_type": "code",
   "execution_count": 21,
   "metadata": {
    "collapsed": true
   },
   "outputs": [],
   "source": [
    "# !pip install requests-html\n",
    "# !pip install selenium-requests"
   ]
  },
  {
   "cell_type": "code",
   "execution_count": 40,
   "metadata": {},
   "outputs": [
    {
     "name": "stdout",
     "output_type": "stream",
     "text": [
      "<selenium.webdriver.remote.webelement.WebElement (session=\"dd1f304a5a65268c2f9efdce6400d201\", element=\"0.7853130881609369-1\")>\n"
     ]
    }
   ],
   "source": [
    "from selenium import webdriver\n",
    "from selenium.webdriver.common.keys import Keys\n",
    "import time\n",
    "\n",
    "driver = webdriver.Chrome()\n",
    "# x=driver.get(\"https://ask.fm/Isabel_2002_\")\n",
    "driver.get(\"https://ask.fm/Mia_le18\")\n",
    "\n",
    "# for i in range(3):\n",
    "#     driver.execute_script(\"window.scrollTo(0, document.body.scrollHeight);\")\n",
    "#     time.sleep(3)\n",
    "\n",
    "    \n",
    "content = driver.find_element_by_class_name('medium')\n",
    "print(content)\n",
    "\n",
    "# from requests_html import HTMLSession\n",
    "# session = HTMLSession()\n",
    "\n",
    "# for i in range(3):\n",
    "#     r = session.get(driver)\n",
    "#     Q = r.html.find('.streamItem-answer')\n",
    "#     print(len(Q))\n",
    "    \n"
   ]
  },
  {
   "cell_type": "code",
   "execution_count": 38,
   "metadata": {},
   "outputs": [
    {
     "name": "stdout",
     "output_type": "stream",
     "text": [
      "<selenium.webdriver.remote.webelement.WebElement (session=\"a5ff8f2235f15837652d19464f09ac69\", element=\"0.40689411660434827-1\")>\n"
     ]
    }
   ],
   "source": [
    "print(login_form)"
   ]
  },
  {
   "cell_type": "code",
   "execution_count": null,
   "metadata": {
    "collapsed": true
   },
   "outputs": [],
   "source": []
  },
  {
   "cell_type": "code",
   "execution_count": 19,
   "metadata": {},
   "outputs": [
    {
     "ename": "NoSuchElementException",
     "evalue": "Message: no such element: Unable to locate element: {\"method\":\"id\",\"selector\":\"mega-bottombar-mail\"}\n  (Session info: chrome=71.0.3578.80)\n  (Driver info: chromedriver=73.0.3683.68 (47787ec04b6e38e22703e856e101e840b65afe72),platform=Windows NT 10.0.18362 x86_64)\n",
     "output_type": "error",
     "traceback": [
      "\u001b[1;31m---------------------------------------------------------------------------\u001b[0m",
      "\u001b[1;31mNoSuchElementException\u001b[0m                    Traceback (most recent call last)",
      "\u001b[1;32m<ipython-input-19-2fdd6222fc78>\u001b[0m in \u001b[0;36m<module>\u001b[1;34m()\u001b[0m\n\u001b[0;32m      7\u001b[0m \u001b[1;32massert\u001b[0m \u001b[1;34m'Yahoo'\u001b[0m \u001b[1;32min\u001b[0m \u001b[0mbrowser\u001b[0m\u001b[1;33m.\u001b[0m\u001b[0mtitle\u001b[0m\u001b[1;33m\u001b[0m\u001b[0m\n\u001b[0;32m      8\u001b[0m \u001b[1;33m\u001b[0m\u001b[0m\n\u001b[1;32m----> 9\u001b[1;33m \u001b[0melem\u001b[0m \u001b[1;33m=\u001b[0m \u001b[0mbrowser\u001b[0m\u001b[1;33m.\u001b[0m\u001b[0mfind_element_by_id\u001b[0m\u001b[1;33m(\u001b[0m\u001b[1;34m'mega-bottombar-mail'\u001b[0m\u001b[1;33m)\u001b[0m  \u001b[1;31m# Find the search box\u001b[0m\u001b[1;33m\u001b[0m\u001b[0m\n\u001b[0m\u001b[0;32m     10\u001b[0m \u001b[1;33m\u001b[0m\u001b[0m\n\u001b[0;32m     11\u001b[0m \u001b[0mbrowser\u001b[0m\u001b[1;33m.\u001b[0m\u001b[0mquit\u001b[0m\u001b[1;33m(\u001b[0m\u001b[1;33m)\u001b[0m\u001b[1;33m\u001b[0m\u001b[0m\n",
      "\u001b[1;32m~\\Anaconda3\\lib\\site-packages\\selenium\\webdriver\\remote\\webdriver.py\u001b[0m in \u001b[0;36mfind_element_by_id\u001b[1;34m(self, id_)\u001b[0m\n\u001b[0;32m    358\u001b[0m             \u001b[0melement\u001b[0m \u001b[1;33m=\u001b[0m \u001b[0mdriver\u001b[0m\u001b[1;33m.\u001b[0m\u001b[0mfind_element_by_id\u001b[0m\u001b[1;33m(\u001b[0m\u001b[1;34m'foo'\u001b[0m\u001b[1;33m)\u001b[0m\u001b[1;33m\u001b[0m\u001b[0m\n\u001b[0;32m    359\u001b[0m         \"\"\"\n\u001b[1;32m--> 360\u001b[1;33m         \u001b[1;32mreturn\u001b[0m \u001b[0mself\u001b[0m\u001b[1;33m.\u001b[0m\u001b[0mfind_element\u001b[0m\u001b[1;33m(\u001b[0m\u001b[0mby\u001b[0m\u001b[1;33m=\u001b[0m\u001b[0mBy\u001b[0m\u001b[1;33m.\u001b[0m\u001b[0mID\u001b[0m\u001b[1;33m,\u001b[0m \u001b[0mvalue\u001b[0m\u001b[1;33m=\u001b[0m\u001b[0mid_\u001b[0m\u001b[1;33m)\u001b[0m\u001b[1;33m\u001b[0m\u001b[0m\n\u001b[0m\u001b[0;32m    361\u001b[0m \u001b[1;33m\u001b[0m\u001b[0m\n\u001b[0;32m    362\u001b[0m     \u001b[1;32mdef\u001b[0m \u001b[0mfind_elements_by_id\u001b[0m\u001b[1;33m(\u001b[0m\u001b[0mself\u001b[0m\u001b[1;33m,\u001b[0m \u001b[0mid_\u001b[0m\u001b[1;33m)\u001b[0m\u001b[1;33m:\u001b[0m\u001b[1;33m\u001b[0m\u001b[0m\n",
      "\u001b[1;32m~\\Anaconda3\\lib\\site-packages\\selenium\\webdriver\\remote\\webdriver.py\u001b[0m in \u001b[0;36mfind_element\u001b[1;34m(self, by, value)\u001b[0m\n\u001b[0;32m    976\u001b[0m         return self.execute(Command.FIND_ELEMENT, {\n\u001b[0;32m    977\u001b[0m             \u001b[1;34m'using'\u001b[0m\u001b[1;33m:\u001b[0m \u001b[0mby\u001b[0m\u001b[1;33m,\u001b[0m\u001b[1;33m\u001b[0m\u001b[0m\n\u001b[1;32m--> 978\u001b[1;33m             'value': value})['value']\n\u001b[0m\u001b[0;32m    979\u001b[0m \u001b[1;33m\u001b[0m\u001b[0m\n\u001b[0;32m    980\u001b[0m     \u001b[1;32mdef\u001b[0m \u001b[0mfind_elements\u001b[0m\u001b[1;33m(\u001b[0m\u001b[0mself\u001b[0m\u001b[1;33m,\u001b[0m \u001b[0mby\u001b[0m\u001b[1;33m=\u001b[0m\u001b[0mBy\u001b[0m\u001b[1;33m.\u001b[0m\u001b[0mID\u001b[0m\u001b[1;33m,\u001b[0m \u001b[0mvalue\u001b[0m\u001b[1;33m=\u001b[0m\u001b[1;32mNone\u001b[0m\u001b[1;33m)\u001b[0m\u001b[1;33m:\u001b[0m\u001b[1;33m\u001b[0m\u001b[0m\n",
      "\u001b[1;32m~\\Anaconda3\\lib\\site-packages\\selenium\\webdriver\\remote\\webdriver.py\u001b[0m in \u001b[0;36mexecute\u001b[1;34m(self, driver_command, params)\u001b[0m\n\u001b[0;32m    319\u001b[0m         \u001b[0mresponse\u001b[0m \u001b[1;33m=\u001b[0m \u001b[0mself\u001b[0m\u001b[1;33m.\u001b[0m\u001b[0mcommand_executor\u001b[0m\u001b[1;33m.\u001b[0m\u001b[0mexecute\u001b[0m\u001b[1;33m(\u001b[0m\u001b[0mdriver_command\u001b[0m\u001b[1;33m,\u001b[0m \u001b[0mparams\u001b[0m\u001b[1;33m)\u001b[0m\u001b[1;33m\u001b[0m\u001b[0m\n\u001b[0;32m    320\u001b[0m         \u001b[1;32mif\u001b[0m \u001b[0mresponse\u001b[0m\u001b[1;33m:\u001b[0m\u001b[1;33m\u001b[0m\u001b[0m\n\u001b[1;32m--> 321\u001b[1;33m             \u001b[0mself\u001b[0m\u001b[1;33m.\u001b[0m\u001b[0merror_handler\u001b[0m\u001b[1;33m.\u001b[0m\u001b[0mcheck_response\u001b[0m\u001b[1;33m(\u001b[0m\u001b[0mresponse\u001b[0m\u001b[1;33m)\u001b[0m\u001b[1;33m\u001b[0m\u001b[0m\n\u001b[0m\u001b[0;32m    322\u001b[0m             response['value'] = self._unwrap_value(\n\u001b[0;32m    323\u001b[0m                 response.get('value', None))\n",
      "\u001b[1;32m~\\Anaconda3\\lib\\site-packages\\selenium\\webdriver\\remote\\errorhandler.py\u001b[0m in \u001b[0;36mcheck_response\u001b[1;34m(self, response)\u001b[0m\n\u001b[0;32m    240\u001b[0m                 \u001b[0malert_text\u001b[0m \u001b[1;33m=\u001b[0m \u001b[0mvalue\u001b[0m\u001b[1;33m[\u001b[0m\u001b[1;34m'alert'\u001b[0m\u001b[1;33m]\u001b[0m\u001b[1;33m.\u001b[0m\u001b[0mget\u001b[0m\u001b[1;33m(\u001b[0m\u001b[1;34m'text'\u001b[0m\u001b[1;33m)\u001b[0m\u001b[1;33m\u001b[0m\u001b[0m\n\u001b[0;32m    241\u001b[0m             \u001b[1;32mraise\u001b[0m \u001b[0mexception_class\u001b[0m\u001b[1;33m(\u001b[0m\u001b[0mmessage\u001b[0m\u001b[1;33m,\u001b[0m \u001b[0mscreen\u001b[0m\u001b[1;33m,\u001b[0m \u001b[0mstacktrace\u001b[0m\u001b[1;33m,\u001b[0m \u001b[0malert_text\u001b[0m\u001b[1;33m)\u001b[0m\u001b[1;33m\u001b[0m\u001b[0m\n\u001b[1;32m--> 242\u001b[1;33m         \u001b[1;32mraise\u001b[0m \u001b[0mexception_class\u001b[0m\u001b[1;33m(\u001b[0m\u001b[0mmessage\u001b[0m\u001b[1;33m,\u001b[0m \u001b[0mscreen\u001b[0m\u001b[1;33m,\u001b[0m \u001b[0mstacktrace\u001b[0m\u001b[1;33m)\u001b[0m\u001b[1;33m\u001b[0m\u001b[0m\n\u001b[0m\u001b[0;32m    243\u001b[0m \u001b[1;33m\u001b[0m\u001b[0m\n\u001b[0;32m    244\u001b[0m     \u001b[1;32mdef\u001b[0m \u001b[0m_value_or_default\u001b[0m\u001b[1;33m(\u001b[0m\u001b[0mself\u001b[0m\u001b[1;33m,\u001b[0m \u001b[0mobj\u001b[0m\u001b[1;33m,\u001b[0m \u001b[0mkey\u001b[0m\u001b[1;33m,\u001b[0m \u001b[0mdefault\u001b[0m\u001b[1;33m)\u001b[0m\u001b[1;33m:\u001b[0m\u001b[1;33m\u001b[0m\u001b[0m\n",
      "\u001b[1;31mNoSuchElementException\u001b[0m: Message: no such element: Unable to locate element: {\"method\":\"id\",\"selector\":\"mega-bottombar-mail\"}\n  (Session info: chrome=71.0.3578.80)\n  (Driver info: chromedriver=73.0.3683.68 (47787ec04b6e38e22703e856e101e840b65afe72),platform=Windows NT 10.0.18362 x86_64)\n"
     ]
    }
   ],
   "source": [
    "from selenium import webdriver\n",
    "from selenium.webdriver.common.keys import Keys\n",
    "\n",
    "browser = webdriver.Chrome()\n",
    "\n",
    "browser.get('http://www.yahoo.com')\n",
    "assert 'Yahoo' in browser.title\n",
    "\n",
    "elem = browser.find_element_by_id('mega-bottombar-mail')  # Find the search box\n",
    "\n",
    "browser.quit()"
   ]
  },
  {
   "cell_type": "code",
   "execution_count": 48,
   "metadata": {
    "collapsed": true
   },
   "outputs": [],
   "source": [
    "user=['Mia_le18','Isabel_2002_','SarahBethFusaro']"
   ]
  },
  {
   "cell_type": "code",
   "execution_count": 49,
   "metadata": {},
   "outputs": [
    {
     "name": "stdout",
     "output_type": "stream",
     "text": [
      "6\n",
      "25\n",
      "25\n"
     ]
    }
   ],
   "source": [
    "from requests_html import HTMLSession\n",
    "session = HTMLSession()\n",
    "\n",
    "for i in range(3):\n",
    "    r = session.get('https://ask.fm/'+user[i])\n",
    "    Q = r.html.find('.streamItem-answer')\n",
    "    print(len(Q))\n",
    "    \n",
    "\n"
   ]
  },
  {
   "cell_type": "code",
   "execution_count": 34,
   "metadata": {},
   "outputs": [
    {
     "name": "stdout",
     "output_type": "stream",
     "text": [
      "mitä teet?\n",
      "about 17 hours ago\n",
      "katon greyn anatomiaa ja oon puhelimella ☺️☺️\n",
      "View more\n",
      "0\n",
      "0\n",
      "Report postForward the question\n",
      "Forward the question\n"
     ]
    }
   ],
   "source": [
    "Q = r.html.find('.streamItem-answer')\n",
    "print(Q[1].text)"
   ]
  },
  {
   "cell_type": "code",
   "execution_count": 43,
   "metadata": {},
   "outputs": [
    {
     "name": "stdout",
     "output_type": "stream",
     "text": [
      "['Describe your neighborhood!', 'Huge', <p class=\"readMore\"><a class=\"button\" data-action=\"ReadMore\" href=\"#\">View more</a></p>]\n",
      "['do u think my ex things about me?', \"Thinks* and I don't know your ex. Who broke up with who and why?\", <p class=\"readMore\"><a class=\"button\" data-action=\"ReadMore\" href=\"#\">View more</a></p>]\n",
      "['I’ve just finished my periods  a week ago and for the past few days feeling very faint, sickly and having period type cramps. Is this normal?', 'Idk. use google lol', <p class=\"readMore\"><a class=\"button\" data-action=\"ReadMore\" href=\"#\">View more</a></p>]\n",
      "['Heeeey how your day is going?? 🙈🙈🔥🔥', 'Pretty great wby', <p class=\"readMore\"><a class=\"button\" data-action=\"ReadMore\" href=\"#\">View more</a></p>]\n",
      "['Do you have boyfriend or girlfriend??? 🙈🙈🙈🙈 hahahaha', 'Yes', <p class=\"readMore\"><a class=\"button\" data-action=\"ReadMore\" href=\"#\">View more</a></p>]\n",
      "An exception occurred\n",
      "[\"Do you wish you could read someone's mind? Why?\", 'Yes', <p class=\"readMore\"><a class=\"button\" data-action=\"ReadMore\" href=\"#\">View more</a></p>]\n",
      "[\"For the peeps that dress alternatively I'd love to know what stores you shop at because I'm looking for more options. Thank you!\", 'AHH', <p class=\"readMore\"><a class=\"button\" data-action=\"ReadMore\" href=\"#\">View more</a></p>]\n",
      "['hi, who’s from ventura, ca? 🙃', 'Why the ?', <p class=\"readMore\"><a class=\"button\" data-action=\"ReadMore\" href=\"#\">View more</a></p>]\n",
      "An exception occurred\n",
      "['Would u date someone u just meet and have a long distance relationship', 'No', <p class=\"readMore\"><a class=\"button\" data-action=\"ReadMore\" href=\"#\">View more</a></p>]\n",
      "['What was weird or gross about your siblings?', 'Was???', <p class=\"readMore\"><a class=\"button\" data-action=\"ReadMore\" href=\"#\">View more</a></p>]\n",
      "['Do you believe in happy ending?', 'yes', <p class=\"readMore\"><a class=\"button\" data-action=\"ReadMore\" href=\"#\">View more</a></p>]\n",
      "['Who was the grossest kid you knew?', 'Some kid named corey', <p class=\"readMore\"><a class=\"button\" data-action=\"ReadMore\" href=\"#\">View more</a></p>]\n",
      "An exception occurred\n",
      "['I’m also wonderful for you saying wonderful😊😂', 'Yayyyy', <p class=\"readMore\"><a class=\"button\" data-action=\"ReadMore\" href=\"#\">View more</a></p>]\n",
      "['Anyone else have a pig or ski slope nose too? I hate mine!!! 😭', 'Idk', <p class=\"readMore\"><a class=\"button\" data-action=\"ReadMore\" href=\"#\">View more</a></p>]\n",
      "['What was the last thing that made you laugh?', 'Nothing', <p class=\"readMore\"><a class=\"button\" data-action=\"ReadMore\" href=\"#\">View more</a></p>]\n",
      "An exception occurred\n",
      "[<span>+2 answers in:</span>]\n",
      "['¿Cono e dijo que me gusta? Pero en mensaje', 'Your request makes no sense', <p class=\"readMore\"><a class=\"button\" data-action=\"ReadMore\" href=\"#\">View more</a></p>]\n",
      "['What was the last thing you purchased and why?', 'On my own, gifts for my friends', <p class=\"readMore\"><a class=\"button\" data-action=\"ReadMore\" href=\"#\">View more</a></p>]\n",
      "['Nah don’t worry bout it I understand', 'Yayy', <p class=\"readMore\"><a class=\"button\" data-action=\"ReadMore\" href=\"#\">View more</a></p>]\n",
      "['Anybody else like taking goofy selfies?', 'Meeeee', <p class=\"readMore\"><a class=\"button\" data-action=\"ReadMore\" href=\"#\">View more</a></p>]\n",
      "An exception occurred\n",
      "An exception occurred\n",
      "['Anyone here from Colorado?', 'Nope', <p class=\"readMore\"><a class=\"button\" data-action=\"ReadMore\" href=\"#\">View more</a></p>]\n",
      "An exception occurred\n",
      "An exception occurred\n",
      "['I dare you to take a pig nose selfie! 🐽', 'no weirdo', <p class=\"readMore\"><a class=\"button\" data-action=\"ReadMore\" href=\"#\">View more</a></p>]\n",
      "['What is better than chocolate?', 'Ice cream', <p class=\"readMore\"><a class=\"button\" data-action=\"ReadMore\" href=\"#\">View more</a></p>]\n",
      "[\"Can someone ask me some questions, I'm really bored. Or if you just want to talk.\", 'Maybe', <p class=\"readMore\"><a class=\"button\" data-action=\"ReadMore\" href=\"#\">View more</a></p>]\n",
      "['I want my boyfriend:(', 'I want a boyfriend', <p class=\"readMore\"><a class=\"button\" data-action=\"ReadMore\" href=\"#\">View more</a></p>]\n",
      "An exception occurred\n",
      "/Isabel_2002_/threads/157061911830\n",
      "[<span>+2 answers</span>, <span>Read more</span>]\n",
      "['Take a selfie making a silly face for silly face Saturday! 😂', 'no', <p class=\"readMore\"><a class=\"button\" data-action=\"ReadMore\" href=\"#\">View more</a></p>]\n",
      "['What kind of man/woman do you want?', 'A confident caring sweet protective boyfriend', <p class=\"readMore\"><a class=\"button\" data-action=\"ReadMore\" href=\"#\">View more</a></p>]\n",
      "['Any guys around 17-20 looking for a clean relationship?? If so reply! If not, don’t reply! 💓💓', \"Imma reply anyway because you don't need to rely on strangers for love.\", <p class=\"readMore\"><a class=\"button\" data-action=\"ReadMore\" href=\"#\">View more</a></p>]\n",
      "[\"okay so i dont know if there's like any way to make a group chat on here butttt i really want to talk to you guys and make new friends\", 'No gruopchats, just shoutouts.', <p class=\"readMore\"><a class=\"button\" data-action=\"ReadMore\" href=\"#\">View more</a></p>]\n",
      "['How old were you when you last went trick or treating?', '16 lol', <p class=\"readMore\"><a class=\"button\" data-action=\"ReadMore\" href=\"#\">View more</a></p>]\n",
      "['Are you an early bird or a night owl?', 'Night owl', <p class=\"readMore\"><a class=\"button\" data-action=\"ReadMore\" href=\"#\">View more</a></p>]\n",
      "['do y’all still listen to one direction because same \\U0001f974', 'Old songs, some songs.', <p class=\"readMore\"><a class=\"button\" data-action=\"ReadMore\" href=\"#\">View more</a></p>]\n",
      "['Any other fellow goofballs out there? 😮', 'Yes', <p class=\"readMore\"><a class=\"button\" data-action=\"ReadMore\" href=\"#\">View more</a></p>]\n",
      "An exception occurred\n",
      "['Any 5sos fans out there?', 'Yes', <br/>, \"Also Hi I'm also Isabel :)\", <p class=\"readMore\"><a class=\"button\" data-action=\"ReadMore\" href=\"#\">View more</a></p>]\n",
      "[\"hey y'all I know this is sounds weird but can your guys help me with this my parents want me to marry a 30 years old lady and I'm only 18 should I marry her yes or no\", \"No. First of all, you're too young to marry, 2nd, you need to marry someone you LOVE with YOUR heart.\", <p class=\"readMore\"><a class=\"button\" data-action=\"ReadMore\" href=\"#\">View more</a></p>]\n",
      "An exception occurred\n",
      "[\"what's your dream car?\", 'mUsTaNg', <p class=\"readMore\"><a class=\"button\" data-action=\"ReadMore\" href=\"#\">View more</a></p>]\n",
      "An exception occurred\n",
      "[<span>+1 answer in:</span>]\n",
      "['Is anyone in school right now ?', 'I was at the time you sent it.', <p class=\"readMore\"><a class=\"button\" data-action=\"ReadMore\" href=\"#\">View more</a></p>]\n",
      "An exception occurred\n",
      "[<span>+3 answers in:</span>]\n",
      "An exception occurred\n",
      "/Isabel_2002_/threads/157014146838\n",
      "[<span>+1 answer</span>, <span>Read more</span>]\n"
     ]
    }
   ],
   "source": [
    "from selenium import webdriver\n",
    "from bs4 import BeautifulSoup\n",
    "from selenium import webdriver\n",
    "from selenium.webdriver.common.keys import Keys\n",
    "import time\n",
    "user=['Isabel_2002_']\n",
    "\n",
    "for i in range(1):\n",
    "    driver = webdriver.Chrome()\n",
    "    driver.get('https://ask.fm/'+user[i])\n",
    "    # driver.get(\"https://ask.fm/Mia_le18\")\n",
    "\n",
    "    for i in range(1):\n",
    "        driver.execute_script(\"window.scrollTo(0, document.body.scrollHeight);\")\n",
    "        time.sleep(3)\n",
    "        \n",
    "#     content = driver.find_element_by_class_name('medium')\n",
    "\n",
    "    soup = BeautifulSoup(driver.page_source,'html.parser')\n",
    "    for item in soup.find_all('article',class_=\"streamItem-answer\"):\n",
    "#      print(item)\n",
    "        try:\n",
    "            arry_data=item.find_all('h2',class_=\"medium\")[0].contents+item.find_all('div',class_=\"streamItem_content\")[0].contents \n",
    "            print(str(arry_data))\n",
    "        except:\n",
    "            print(\"An exception occurred\")\n",
    "            arry_data=item.find_all('a',class_=\"streamItem_threadDetails\")\n",
    "            for link in arry_data:   \n",
    "                \n",
    "                content=str(link.find_all('span'))\n",
    "                if 'Read more' in content:\n",
    "                    print(str(link.get('href')))\n",
    "                    \n",
    "                print(content)\n",
    "    \n",
    "            \n",
    "        \n",
    "    \n",
    "    \n",
    "# print(soup)\n",
    "# # BeautifulSoup('<p class=\"body strikeout\"></p>')\n",
    "\n",
    "# for item in soup.find_all('h2',class_=\"medium\"):\n",
    "#      print(item)\n"
   ]
  },
  {
   "cell_type": "code",
   "execution_count": 8,
   "metadata": {},
   "outputs": [
    {
     "name": "stdout",
     "output_type": "stream",
     "text": [
      "[\"Damn I've always wanted to learn to play it but my parents wont buy something off sttrangers, and I have no money.\", <p class=\"readMore\"><a class=\"button\" data-action=\"ReadMore\" href=\"#\">View more</a></p>]\n"
     ]
    }
   ],
   "source": [
    "print(str(arry_data[0].contents))"
   ]
  },
  {
   "cell_type": "code",
   "execution_count": 5,
   "metadata": {},
   "outputs": [
    {
     "ename": "AttributeError",
     "evalue": "ResultSet object has no attribute 'contents'. You're probably treating a list of items like a single item. Did you call find_all() when you meant to call find()?",
     "output_type": "error",
     "traceback": [
      "\u001b[1;31m---------------------------------------------------------------------------\u001b[0m",
      "\u001b[1;31mAttributeError\u001b[0m                            Traceback (most recent call last)",
      "\u001b[1;32m<ipython-input-5-a6e327f9f04b>\u001b[0m in \u001b[0;36m<module>\u001b[1;34m()\u001b[0m\n\u001b[0;32m      1\u001b[0m \u001b[1;32mfor\u001b[0m \u001b[0mitem\u001b[0m \u001b[1;32min\u001b[0m \u001b[0msoup\u001b[0m\u001b[1;33m.\u001b[0m\u001b[0mfind_all\u001b[0m\u001b[1;33m(\u001b[0m\u001b[1;34m'article'\u001b[0m\u001b[1;33m,\u001b[0m\u001b[0mclass_\u001b[0m\u001b[1;33m=\u001b[0m\u001b[1;34m\"streamItem-answer\"\u001b[0m\u001b[1;33m)\u001b[0m\u001b[1;33m:\u001b[0m\u001b[1;33m\u001b[0m\u001b[0m\n\u001b[0;32m      2\u001b[0m \u001b[1;31m#      print(item)\u001b[0m\u001b[1;33m\u001b[0m\u001b[1;33m\u001b[0m\u001b[0m\n\u001b[1;32m----> 3\u001b[1;33m     \u001b[0mprint\u001b[0m\u001b[1;33m(\u001b[0m\u001b[0mitem\u001b[0m\u001b[1;33m.\u001b[0m\u001b[0mfind_all\u001b[0m\u001b[1;33m(\u001b[0m\u001b[1;34m'h2'\u001b[0m\u001b[1;33m,\u001b[0m\u001b[0mclass_\u001b[0m\u001b[1;33m=\u001b[0m\u001b[1;34m\"medium\"\u001b[0m\u001b[1;33m)\u001b[0m\u001b[1;33m.\u001b[0m\u001b[0mcontents\u001b[0m \u001b[1;33m+\u001b[0m\u001b[0mitem\u001b[0m\u001b[1;33m.\u001b[0m\u001b[0mfind_all\u001b[0m\u001b[1;33m(\u001b[0m\u001b[1;34m'div'\u001b[0m\u001b[1;33m,\u001b[0m\u001b[0mclass_\u001b[0m\u001b[1;33m=\u001b[0m\u001b[1;34m\"streamItem_content\"\u001b[0m\u001b[1;33m)\u001b[0m\u001b[1;33m)\u001b[0m\u001b[1;33m\u001b[0m\u001b[0m\n\u001b[0m",
      "\u001b[1;32m~\\Anaconda3\\lib\\site-packages\\bs4\\element.py\u001b[0m in \u001b[0;36m__getattr__\u001b[1;34m(self, key)\u001b[0m\n\u001b[0;32m   1805\u001b[0m     \u001b[1;32mdef\u001b[0m \u001b[0m__getattr__\u001b[0m\u001b[1;33m(\u001b[0m\u001b[0mself\u001b[0m\u001b[1;33m,\u001b[0m \u001b[0mkey\u001b[0m\u001b[1;33m)\u001b[0m\u001b[1;33m:\u001b[0m\u001b[1;33m\u001b[0m\u001b[0m\n\u001b[0;32m   1806\u001b[0m         raise AttributeError(\n\u001b[1;32m-> 1807\u001b[1;33m             \u001b[1;34m\"ResultSet object has no attribute '%s'. You're probably treating a list of items like a single item. Did you call find_all() when you meant to call find()?\"\u001b[0m \u001b[1;33m%\u001b[0m \u001b[0mkey\u001b[0m\u001b[1;33m\u001b[0m\u001b[0m\n\u001b[0m\u001b[0;32m   1808\u001b[0m         )\n",
      "\u001b[1;31mAttributeError\u001b[0m: ResultSet object has no attribute 'contents'. You're probably treating a list of items like a single item. Did you call find_all() when you meant to call find()?"
     ]
    }
   ],
   "source": [
    "for item in soup.find_all('article',class_=\"streamItem-answer\"):\n",
    "#      print(item)\n",
    "    print(item.find_all('h2',class_=\"medium\")+item.find_all('div',class_=\"streamItem_content\"))"
   ]
  },
  {
   "cell_type": "code",
   "execution_count": null,
   "metadata": {
    "collapsed": true
   },
   "outputs": [],
   "source": []
  }
 ],
 "metadata": {
  "kernelspec": {
   "display_name": "Python 3",
   "language": "python",
   "name": "python3"
  },
  "language_info": {
   "codemirror_mode": {
    "name": "ipython",
    "version": 3
   },
   "file_extension": ".py",
   "mimetype": "text/x-python",
   "name": "python",
   "nbconvert_exporter": "python",
   "pygments_lexer": "ipython3",
   "version": "3.6.2"
  }
 },
 "nbformat": 4,
 "nbformat_minor": 2
}
