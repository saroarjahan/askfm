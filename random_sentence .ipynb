{
 "cells": [
  {
   "cell_type": "code",
   "execution_count": 1,
   "metadata": {},
   "outputs": [
    {
     "name": "stdout",
     "output_type": "stream",
     "text": [
      "Africa is for the Africans and the rest is for the guests. We must organise ourselves into a mighty nation. Let us write and work in this second half of the century and stop crying for the whiteman. Whites talk about white civilisation; we have a black civilisation too. We are fighting against nobody but simply stretching a point for what is ours.\n",
      "The whiteman is busy creating situations of divide and rule and telling one group that they are better than the other in order to make its rule easy over the non-Europeans. The minority of two-million is ruling the vast majority of Non-Europeans, keeping power to itself. These are the symbols of oppression, viz the Lands Act 1913, which deprives the Africans of their land and gave 70% to the whiteman and 30% to the majority of the people. The Colour Bar Act in Industry, Pass Laws and the Suppression of Communism Act all aimed at muzzling the Non-Europeans, and many other colour bar Acts practising racial discrimination, denying Non-Europeans freedom of speech and movement.\n",
      "  * Text is available under the Creative Commons Attribution-ShareAlike License; additional terms may apply. By using this site, you agree to the Terms of Use and Privacy Policy. Wikipedia® is a registered trademark of the Wikimedia Foundation, Inc., a non-profit organization.\n",
      "  * Text is available under the Creative Commons Attribution-ShareAlike License; additional terms may apply. By using this site, you agree to the Terms of Use and Privacy Policy. Wikipedia® is a registered trademark of the Wikimedia Foundation, Inc., a non-profit organization.\n",
      "The Max Planck Institute of Molecular Cell Biology and Genetics (MPI-CBG) is a biology research institute located in Dresden, Germany. It was founded in 1998 and was fully operational in 2001. Twenty-four research groups work in molecular biology, cell biology, developmental biology,and biophysics supported by various facilities.\n",
      "The MPI-CBG is headed by five tenured directors or group leaders[2] - Wieland Huttner (Germany) as Managing Director, Anthony Hyman (UK), Elisabeth Knust (Germany), Eugene Myers (USA), Marino Zerial (Italy), - and a chief operating officer (Ivan Baines). Together with the directors' groups, 17 independent research groups[3] led by untenured principal investigators and about 16 facilities[4] make up the work force of the institute. In total, the institute employs around 560 people of whom about half are not German. The flat organisation and the absence of department divisions fosters direct communication and a slim administration.\n",
      "The MPI-CBG is located next to research centers of the Technische Universität Dresden, the University Clinic C.G. Carus, the Medical Theoretical Centre (MTZ) and the Biotechnological Centre (BIOZ). The MPI-CBG has collaborations with all four research institutions in Dresden and with other centres in the city like the Max Planck Institute for the Physics of Complex Systems with which it forms the research alliance DRESDEN-concept.[5] It also collaborates with institutions abroad.[6] In addition, it operates an international PhD program together with the aforementioned neighbours.[7]\n",
      "  * Text is available under the Creative Commons Attribution-ShareAlike License; additional terms may apply. By using this site, you agree to the Terms of Use and Privacy Policy. Wikipedia® is a registered trademark of the Wikimedia Foundation, Inc., a non-profit organization.\n",
      "Weikersdorf am Steinfelde is a municipality in the district of Wiener Neustadt-Land in the Austrian state of Lower Austria.\n",
      "  This Lower Austria location article is a stub. You can help Wikipedia by expanding it.\n",
      "  * Text is available under the Creative Commons Attribution-ShareAlike License; additional terms may apply. By using this site, you agree to the Terms of Use and Privacy Policy. Wikipedia® is a registered trademark of the Wikimedia Foundation, Inc., a non-profit organization.\n",
      "Hulst's Flower Moth (Schinia hulstia) is a moth of the Noctuidae family. It is found on the Great Plains from North Dakota to Texas, in the south ranging eastward to Arkansas and westward to California.\n",
      "The wingspan is about 24 mm.\n",
      "  This Heliothinae article is a stub. You can help Wikipedia by expanding it.\n",
      "  * Text is available under the Creative Commons Attribution-ShareAlike License; additional terms may apply. By using this site, you agree to the Terms of Use and Privacy Policy. Wikipedia® is a registered trademark of the Wikimedia Foundation, Inc., a non-profit organization.\n",
      "George Breinton was the son of the MP, William Breinton. He married a woman named Agnes at some point before November 1424. It is thought that the MP Thomas Breinton, was their son.\n",
      "  This article about a Member of the Parliament of England (up to 1707) is a stub. You can help Wikipedia by expanding it.\n",
      "  * Text is available under the Creative Commons Attribution-ShareAlike License; additional terms may apply. By using this site, you agree to the Terms of Use and Privacy Policy. Wikipedia® is a registered trademark of the Wikimedia Foundation, Inc., a non-profit organization.\n",
      "  * Text is available under the Creative Commons Attribution-ShareAlike License; additional terms may apply. By using this site, you agree to the Terms of Use and Privacy Policy. Wikipedia® is a registered trademark of the Wikimedia Foundation, Inc., a non-profit organization.\n",
      "  * Text is available under the Creative Commons Attribution-ShareAlike License; additional terms may apply. By using this site, you agree to the Terms of Use and Privacy Policy. Wikipedia® is a registered trademark of the Wikimedia Foundation, Inc., a non-profit organization.\n",
      "Kerry Burke is an Australian former rugby league footballer of the 1960s.\n",
      "  * Text is available under the Creative Commons Attribution-ShareAlike License; additional terms may apply. By using this site, you agree to the Terms of Use and Privacy Policy. Wikipedia® is a registered trademark of the Wikimedia Foundation, Inc., a non-profit organization.\n",
      "Merry Olde Soul is an album by vibraphonist/pianist Victor Feldman recorded in early 1961 (with one track from December 1960) and originally released on the Riverside label.[1][2]\n",
      "The Allmusic review by Scott Yanow states: \"Feldman is in excellent form on a straight-ahead set. The trio/quartet performs five standards that for the most part are not overly familiar, plus four of the leader's originals. Tasteful and swinging music\".[3] On All About Jazz Samuel Chell observed \"As impressive as is his earlier date, The Arrival of Victor Feldman, Merry Olde Soul is overall a more satisfying session ... Merry Olde Soul exhibits more warmth and variety in its textures. It's also a more \"groove-oriented session\" thanks to the use of Cannonball Adderley's rhythm team\".[4]\n",
      "  * Text is available under the Creative Commons Attribution-ShareAlike License; additional terms may apply. By using this site, you agree to the Terms of Use and Privacy Policy. Wikipedia® is a registered trademark of the Wikimedia Foundation, Inc., a non-profit organization.\n"
     ]
    }
   ],
   "source": [
    "#This function does the job of extracting a random sentences or articles from Wikipedia\n",
    "from inscriptis import get_text\n",
    "import urllib.request\n",
    "\n",
    "\n",
    "def random_sent(n_iters=10):\n",
    "\n",
    "    n=n_iters\n",
    "\n",
    "    random_sents=[]\n",
    "    with open('randomly.csv','w') as file:\n",
    "        for i in range(n):\n",
    "            url = \"http://en.wikipedia.org/wiki/Special:Random\"\n",
    "            html = urllib.request.urlopen(url).read().decode('utf-8')\n",
    "            text = get_text(html)\n",
    "\n",
    "            text=text.split('\\n')\n",
    "            for i,line in enumerate(text):\n",
    "                if ' is ' in line:\n",
    "\n",
    "                    line=text[i]\n",
    "                    print(line)\n",
    "\n",
    "                            random_sents.append(line)\n",
    "                            file.write((line.encode('ascii','ignore')).decode('utf-8'))\n",
    "                            file.write('\\n')                \n",
    "\n",
    "    return random_sents\n",
    "\n",
    "## write into csv\n",
    "text=random_sent()\n",
    "with open('rand.csv','w') as file:\n",
    "    for line in text:\n",
    "        file.write((line.encode('ascii','ignore')).decode('utf-8'))\n",
    "        file.write('\\n')\n"
   ]
  }
 ],
 "metadata": {
  "kernelspec": {
   "display_name": "Python 3",
   "language": "python",
   "name": "python3"
  },
  "language_info": {
   "codemirror_mode": {
    "name": "ipython",
    "version": 3
   },
   "file_extension": ".py",
   "mimetype": "text/x-python",
   "name": "python",
   "nbconvert_exporter": "python",
   "pygments_lexer": "ipython3",
   "version": "3.7.1"
  }
 },
 "nbformat": 4,
 "nbformat_minor": 2
}
